{
 "cells": [
  {
   "cell_type": "code",
   "execution_count": null,
   "id": "9b77305d-d630-4799-97fe-ccab3a7e000c",
   "metadata": {},
   "outputs": [],
   "source": [
    "import mosaic\n",
    "from mosaic.utils import visualize\n",
    "from IPython.display import IFrame\n",
    "\n",
    "dataset = mosaic.load(\n",
    "    names_and_subjects={\n",
    "        \"deep_recon\": [1],\n",
    "    },\n",
    "    folder=\"/research/datasets/mosaic-dataset\" \n",
    ")\n",
    "\n",
    "print(f\"Dataset Length: {len(dataset)}\")\n",
    "print(f\"Keys in each dataset item: {', '.join(dataset[0].keys())}\")\n",
    "print(f\"Sample ROI Names: {', '.join(list(dataset[0]['betas'].keys())[20:25])}\")"
   ]
  },
  {
   "cell_type": "code",
   "execution_count": null,
   "id": "0d194ec6-f1bf-45c1-b357-827a2b1b12c2",
   "metadata": {},
   "outputs": [],
   "source": [
    "visualize(\n",
    "    betas=dataset[0][\"betas\"],\n",
    "    rois=[\n",
    "        \"L_FFC\",\n",
    "        \"R_FFC\",\n",
    "    ],\n",
    "    save_as = \"plot.html\",\n",
    "    mode = \"midthickness\"\n",
    ")\n",
    "IFrame(src=\"plot.html\", width=800, height=600)"
   ]
  }
 ],
 "metadata": {
  "kernelspec": {
   "display_name": "Python 3 (ipykernel)",
   "language": "python",
   "name": "python3"
  },
  "language_info": {
   "codemirror_mode": {
    "name": "ipython",
    "version": 3
   },
   "file_extension": ".py",
   "mimetype": "text/x-python",
   "name": "python",
   "nbconvert_exporter": "python",
   "pygments_lexer": "ipython3",
   "version": "3.12.4"
  }
 },
 "nbformat": 4,
 "nbformat_minor": 5
}
