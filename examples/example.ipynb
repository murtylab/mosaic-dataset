{
 "cells": [
  {
   "cell_type": "code",
   "execution_count": null,
   "id": "0ac5ba89",
   "metadata": {},
   "outputs": [],
   "source": [
    "!pip install mosaic-dataset --upgrade"
   ]
  },
  {
   "cell_type": "code",
   "execution_count": null,
   "id": "9b77305d-d630-4799-97fe-ccab3a7e000c",
   "metadata": {},
   "outputs": [],
   "source": [
    "import mosaic\n",
    "\n",
    "dataset = mosaic.load(\n",
    "    names_and_subjects={\n",
    "        \"nsd\": [1],\n",
    "    },\n",
    "    folder=\"./mosaic-dataset\" \n",
    ")\n",
    "\n",
    "print(dataset[0].keys())"
   ]
  },
  {
   "cell_type": "markdown",
   "id": "01d4e11f",
   "metadata": {},
   "source": [
    "# Data Visualization"
   ]
  },
  {
   "cell_type": "code",
   "execution_count": null,
   "id": "0d194ec6-f1bf-45c1-b357-827a2b1b12c2",
   "metadata": {},
   "outputs": [],
   "source": [
    "from mosaic.utils import visualize\n",
    "\n",
    "visualize(\n",
    "    betas=dataset[0][\"betas\"],\n",
    "    ## set rois to None if you want to visualize all of the rois\n",
    "    rois=[\n",
    "        \"L_FFC\",\n",
    "        \"R_FFC\",\n",
    "        \"L_V1\",\n",
    "        \"R_V1\"\n",
    "    ],\n",
    "    ## other modes are: 'white', 'midthickness', 'pial', 'inflated', 'very_inflated', 'flat', 'sphere'\n",
    "    mode = \"inflated\",\n",
    "    save_as = \"plot.html\",\n",
    ")"
   ]
  },
  {
   "cell_type": "markdown",
   "id": "bbe3021f",
   "metadata": {},
   "source": [
    "# Loading pre-trained models"
   ]
  },
  {
   "cell_type": "code",
   "execution_count": null,
   "id": "860dc702",
   "metadata": {},
   "outputs": [],
   "source": [
    "import mosaic\n",
    "\n",
    "model = mosaic.from_pretrained(\n",
    "    backbone_name=\"resnet18\",\n",
    "    vertices=\"visual\",\n",
    "    framework=\"multihead\",\n",
    "    subjects=\"all\"\n",
    ")"
   ]
  },
  {
   "cell_type": "markdown",
   "id": "ef056056",
   "metadata": {},
   "source": [
    "# Running Inference"
   ]
  },
  {
   "cell_type": "code",
   "execution_count": null,
   "id": "a3090a0c",
   "metadata": {},
   "outputs": [],
   "source": [
    "# !wget  wget -O cat.jpg https://upload.wikimedia.org/wikipedia/commons/thumb/6/68/Orange_tabby_cat_sitting_on_fallen_leaves-Hisashi-01A.jpg/1280px-Orange_tabby_cat_sitting_on_fallen_leaves-Hisashi-01A.jpg"
   ]
  },
  {
   "cell_type": "code",
   "execution_count": null,
   "id": "eb1ba360",
   "metadata": {},
   "outputs": [],
   "source": [
    "from mosaic.utils.inference import MosaicInference\n",
    "from PIL import Image\n",
    "\n",
    "inference = MosaicInference(\n",
    "    model=model,\n",
    "    batch_size=32,\n",
    "    device=\"cpu\"\n",
    ")\n",
    "\n",
    "results = inference.run(\n",
    "    images = [\n",
    "        Image.open(\"cat.jpg\"),\n",
    "    ]\n",
    ")\n",
    "\n",
    "## (2, num_voxels)\n",
    "print(results.shape)"
   ]
  }
 ],
 "metadata": {
  "kernelspec": {
   "display_name": "Python 3 (ipykernel)",
   "language": "python",
   "name": "python3"
  },
  "language_info": {
   "codemirror_mode": {
    "name": "ipython",
    "version": 3
   },
   "file_extension": ".py",
   "mimetype": "text/x-python",
   "name": "python",
   "nbconvert_exporter": "python",
   "pygments_lexer": "ipython3",
   "version": "3.12.4"
  }
 },
 "nbformat": 4,
 "nbformat_minor": 5
}
